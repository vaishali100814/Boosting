{
  "nbformat": 4,
  "nbformat_minor": 0,
  "metadata": {
    "colab": {
      "provenance": []
    },
    "kernelspec": {
      "name": "python3",
      "display_name": "Python 3"
    },
    "language_info": {
      "name": "python"
    }
  },
  "cells": [
    {
      "cell_type": "markdown",
      "source": [
        "#Boosting Assignment"
      ],
      "metadata": {
        "id": "1u8pwoSohzkX"
      }
    },
    {
      "cell_type": "markdown",
      "source": [
        "Q1. What is Boosting in Machine Learning? Explain how it improves weak learners.\n",
        "  - Boosting is an ensemble learning technique that combines multiple weak learners (usually shallow decision trees) in a sequential manner to build a strong predictive model. The key idea is that each new model focuses more on the mistakes (misclassified samples or high error points) made by the previous models. This step-by-step correction improves overall performance.\n",
        "  It starts with a weak model trained on the dataset. Errors are identified, and higher weights are given to misclassified samples. A new weak learner is trained on this updated distribution. Final prediction is made by combining the weighted outputs of all learners.\n",
        "\n",
        "Q2. What is the difference between AdaBoost and Gradient Boosting in terms of how models are trained?\n",
        "  - AdaBoost:\n",
        "  Focuses on misclassified samples by adjusting weights of data points. Each new weak learner is trained on reweighted data to correct previous errors. Combines learners through weighted majority voting (classification) or weighted sum (regression).\n",
        "  Gradient Boosting:\n",
        "  Focuses on minimizing the loss function directly using gradient descent. Each new weak learner fits the residual errors (negative gradients) of the previous model. Combines learners additively to minimize overall prediction error.\n",
        "\n",
        "Q3. How does regularization help in XGBoost?\n",
        "  - Regularization in XGBoost helps prevent overfitting and improves generalization by penalizing complex models. L1 Regularization (Lasso penalty): Shrinks less important feature weights to zero, encouraging sparsity in the model. L2 Regularization (Ridge penalty): Prevents excessively large weights, ensuring stability in predictions. Helps control tree complexity by limiting depth, number of leaves, and weight magnitudes. Leads to a more robust model that performs well on unseen data.\n",
        "\n",
        "Q4. Why is CatBoost considered efficient for handling categorical data?\n",
        "  - CatBoost is specifically designed to handle categorical features efficiently without requiring extensive preprocessing (like one-hot encoding or label encoding). Uses a technique called ordered target statistics, which converts categorical values into numerical values based on target distributions while avoiding data leakage. Handles high-cardinality categorical variables smoothly without exploding feature space. Automatically deals with missing values in categorical columns. Reduces preprocessing time and risk of overfitting from improper encoding methods.\n",
        "\n",
        "Q5. What are some real-world applications where boosting techniques are preferred over bagging methods?\n",
        "  - Boosting techniques are often preferred in scenarios where high accuracy and complex decision boundaries are required. Some real-world applications include:\n",
        "  Finance → Credit scoring, loan default prediction, fraud detection.Healthcare → Disease diagnosis, patient risk prediction.\n",
        "  E-commerce → Recommendation systems, customer churn prediction.\n",
        "  Marketing → Customer segmentation, response prediction for campaigns Cybersecurity → Intrusion detection, anomaly detection.    "
      ],
      "metadata": {
        "id": "Ak26xChKh8Kp"
      }
    },
    {
      "cell_type": "code",
      "execution_count": 1,
      "metadata": {
        "colab": {
          "base_uri": "https://localhost:8080/"
        },
        "id": "CcaOcwn-hwGF",
        "outputId": "d298bad0-1f85-4ac3-f97e-85ef3bd74006"
      },
      "outputs": [
        {
          "output_type": "stream",
          "name": "stdout",
          "text": [
            "Accuracy of AdaBoost Classifier : 0.9532163742690059\n"
          ]
        }
      ],
      "source": [
        "# Q6. Write a Python program to:Train an AdaBoost Classifier on the Breast Cancer dataset, Print the model accuracy\n",
        "\n",
        "import numpy as np\n",
        "import pandas as pd\n",
        "import warnings\n",
        "warnings.filterwarnings(\"ignore\")\n",
        "\n",
        "# Load dataset\n",
        "from sklearn.datasets import load_breast_cancer\n",
        "data = load_breast_cancer()\n",
        "X = pd.DataFrame(data.data, columns=data.feature_names)\n",
        "y = data.target\n",
        "\n",
        "# Train-test split\n",
        "from sklearn.model_selection import train_test_split\n",
        "X_train, X_test, y_train, y_test = train_test_split(\n",
        "    X, y, test_size=0.3, random_state=42, stratify=y\n",
        ")\n",
        "\n",
        "# Train AdaBoost Classifier\n",
        "from sklearn.ensemble import AdaBoostClassifier\n",
        "from sklearn.tree import DecisionTreeClassifier\n",
        "model = AdaBoostClassifier(\n",
        "    estimator=DecisionTreeClassifier(max_depth=1),\n",
        "    n_estimators=100,\n",
        "    random_state=42\n",
        ")\n",
        "model.fit(X_train, y_train)\n",
        "\n",
        "# Evaluate accuracy\n",
        "from sklearn.metrics import accuracy_score\n",
        "y_pred = model.predict(X_test)\n",
        "acc = accuracy_score(y_test, y_pred)\n",
        "\n",
        "print(\"Accuracy of AdaBoost Classifier :\", acc)"
      ]
    },
    {
      "cell_type": "code",
      "source": [
        "# Q7. Write a Python program to:Train a Gradient Boosting Regressor on the California Housing dataset,  Evaluate performance using R-squared score\n",
        "\n",
        "import numpy as np\n",
        "import pandas as pd\n",
        "import warnings\n",
        "warnings.filterwarnings(\"ignore\")\n",
        "\n",
        "# Load dataset\n",
        "from sklearn.datasets import fetch_california_housing\n",
        "data = fetch_california_housing()\n",
        "X = pd.DataFrame(data.data, columns=data.feature_names)\n",
        "y = data.target\n",
        "\n",
        "# Train-test split\n",
        "from sklearn.model_selection import train_test_split\n",
        "X_train, X_test, y_train, y_test = train_test_split(\n",
        "    X, y, test_size=0.3, random_state=42\n",
        ")\n",
        "\n",
        "# Train Gradient Boosting Regressor\n",
        "from sklearn.ensemble import GradientBoostingRegressor\n",
        "model = GradientBoostingRegressor(n_estimators=200, learning_rate=0.1, random_state=42)\n",
        "model.fit(X_train, y_train)\n",
        "\n",
        "# Evaluate R-squared score\n",
        "from sklearn.metrics import r2_score\n",
        "y_pred = model.predict(X_test)\n",
        "r2 = r2_score(y_test, y_pred)\n",
        "\n",
        "print(\"R-squared Score of Gradient Boosting Regressor :\", r2)"
      ],
      "metadata": {
        "colab": {
          "base_uri": "https://localhost:8080/"
        },
        "id": "u8_XcnQskFK5",
        "outputId": "3067b399-b39a-4453-8c61-07dab6dd5498"
      },
      "execution_count": 2,
      "outputs": [
        {
          "output_type": "stream",
          "name": "stdout",
          "text": [
            "R-squared Score of Gradient Boosting Regressor : 0.804992915650479\n"
          ]
        }
      ]
    },
    {
      "cell_type": "code",
      "source": [
        "# Q8. Write a Python program to:Train an XGBoost Classifier on the Breast Cancer dataset,Tune the learning rate using GridSearchCV,best parameters.\n",
        "\n",
        "import numpy as np\n",
        "import pandas as pd\n",
        "import warnings\n",
        "warnings.filterwarnings(\"ignore\")\n",
        "\n",
        "# Load dataset\n",
        "from sklearn.datasets import load_breast_cancer\n",
        "data = load_breast_cancer()\n",
        "X = pd.DataFrame(data.data, columns=data.feature_names)\n",
        "y = data.target\n",
        "\n",
        "# Train-test split\n",
        "from sklearn.model_selection import train_test_split\n",
        "X_train, X_test, y_train, y_test = train_test_split(\n",
        "    X, y, test_size=0.3, random_state=42, stratify=y\n",
        ")\n",
        "\n",
        "# XGBoost Classifier\n",
        "from xgboost import XGBClassifier\n",
        "\n",
        "# GridSearchCV\n",
        "from sklearn.model_selection import GridSearchCV\n",
        "param_grid = {\n",
        "    \"learning_rate\": [0.01, 0.05, 0.1, 0.2]\n",
        "}\n",
        "xgb = XGBClassifier(\n",
        "    n_estimators=200,\n",
        "    max_depth=3,\n",
        "    use_label_encoder=False,\n",
        "    eval_metric=\"logloss\",\n",
        "    random_state=42\n",
        ")\n",
        "\n",
        "grid = GridSearchCV(estimator=xgb, param_grid=param_grid, cv=5, scoring=\"accuracy\")\n",
        "grid.fit(X_train, y_train)\n",
        "\n",
        "# Best model evaluation\n",
        "from sklearn.metrics import accuracy_score\n",
        "best_model = grid.best_estimator_\n",
        "y_pred = best_model.predict(X_test)\n",
        "acc = accuracy_score(y_test, y_pred)\n",
        "\n",
        "print(\"Best Parameters :\", grid.best_params_)\n",
        "print(\"Accuracy of XGBoost Classifier :\", acc)\n"
      ],
      "metadata": {
        "colab": {
          "base_uri": "https://localhost:8080/"
        },
        "id": "tvzS0e4tkbCI",
        "outputId": "7b0c0e75-028f-43d4-b0df-673664f05b9c"
      },
      "execution_count": 3,
      "outputs": [
        {
          "output_type": "stream",
          "name": "stdout",
          "text": [
            "Best Parameters : {'learning_rate': 0.2}\n",
            "Accuracy of XGBoost Classifier : 0.9649122807017544\n"
          ]
        }
      ]
    },
    {
      "cell_type": "code",
      "source": [
        "# Q9. Write a Python program to:Train a CatBoost Classifier, Plot the confusion matrix using seaborn.\n",
        "\n",
        "!pip install catboost\n",
        "import numpy as np\n",
        "import pandas as pd\n",
        "import seaborn as sns\n",
        "import matplotlib.pyplot as plt\n",
        "import warnings\n",
        "warnings.filterwarnings(\"ignore\")\n",
        "\n",
        "# Load dataset\n",
        "from sklearn.datasets import load_breast_cancer\n",
        "data = load_breast_cancer()\n",
        "X = pd.DataFrame(data.data, columns=data.feature_names)\n",
        "y = data.target\n",
        "\n",
        "# Train-test split\n",
        "from sklearn.model_selection import train_test_split\n",
        "X_train, X_test, y_train, y_test = train_test_split(\n",
        "    X, y, test_size=0.3, random_state=42, stratify=y\n",
        ")\n",
        "\n",
        "# Train CatBoost Classifier\n",
        "from catboost import CatBoostClassifier\n",
        "cat = CatBoostClassifier(iterations=200, depth=4, learning_rate=0.1, verbose=0, random_state=42)\n",
        "cat.fit(X_train, y_train)\n",
        "\n",
        "# Predictions\n",
        "y_pred = cat.predict(X_test)\n",
        "\n",
        "# Confusion matrix\n",
        "from sklearn.metrics import confusion_matrix\n",
        "cm = confusion_matrix(y_test, y_pred)\n",
        "\n",
        "# Plot confusion matrix\n",
        "plt.figure(figsize=(6,4))\n",
        "sns.heatmap(cm, annot=True, fmt=\"d\", cmap=\"Blues\", xticklabels=data.target_names, yticklabels=data.target_names)\n",
        "plt.xlabel(\"Predicted\")\n",
        "plt.ylabel(\"Actual\")\n",
        "plt.title(\"Confusion Matrix - CatBoost Classifier\")\n",
        "plt.show()\n"
      ],
      "metadata": {
        "colab": {
          "base_uri": "https://localhost:8080/",
          "height": 827
        },
        "id": "RqNSc6q0oLN5",
        "outputId": "c5af7ec1-019c-4cd1-b460-26b01f666d70"
      },
      "execution_count": 4,
      "outputs": [
        {
          "output_type": "stream",
          "name": "stdout",
          "text": [
            "Collecting catboost\n",
            "  Downloading catboost-1.2.8-cp312-cp312-manylinux2014_x86_64.whl.metadata (1.2 kB)\n",
            "Requirement already satisfied: graphviz in /usr/local/lib/python3.12/dist-packages (from catboost) (0.21)\n",
            "Requirement already satisfied: matplotlib in /usr/local/lib/python3.12/dist-packages (from catboost) (3.10.0)\n",
            "Requirement already satisfied: numpy<3.0,>=1.16.0 in /usr/local/lib/python3.12/dist-packages (from catboost) (2.0.2)\n",
            "Requirement already satisfied: pandas>=0.24 in /usr/local/lib/python3.12/dist-packages (from catboost) (2.2.2)\n",
            "Requirement already satisfied: scipy in /usr/local/lib/python3.12/dist-packages (from catboost) (1.16.1)\n",
            "Requirement already satisfied: plotly in /usr/local/lib/python3.12/dist-packages (from catboost) (5.24.1)\n",
            "Requirement already satisfied: six in /usr/local/lib/python3.12/dist-packages (from catboost) (1.17.0)\n",
            "Requirement already satisfied: python-dateutil>=2.8.2 in /usr/local/lib/python3.12/dist-packages (from pandas>=0.24->catboost) (2.9.0.post0)\n",
            "Requirement already satisfied: pytz>=2020.1 in /usr/local/lib/python3.12/dist-packages (from pandas>=0.24->catboost) (2025.2)\n",
            "Requirement already satisfied: tzdata>=2022.7 in /usr/local/lib/python3.12/dist-packages (from pandas>=0.24->catboost) (2025.2)\n",
            "Requirement already satisfied: contourpy>=1.0.1 in /usr/local/lib/python3.12/dist-packages (from matplotlib->catboost) (1.3.3)\n",
            "Requirement already satisfied: cycler>=0.10 in /usr/local/lib/python3.12/dist-packages (from matplotlib->catboost) (0.12.1)\n",
            "Requirement already satisfied: fonttools>=4.22.0 in /usr/local/lib/python3.12/dist-packages (from matplotlib->catboost) (4.59.1)\n",
            "Requirement already satisfied: kiwisolver>=1.3.1 in /usr/local/lib/python3.12/dist-packages (from matplotlib->catboost) (1.4.9)\n",
            "Requirement already satisfied: packaging>=20.0 in /usr/local/lib/python3.12/dist-packages (from matplotlib->catboost) (25.0)\n",
            "Requirement already satisfied: pillow>=8 in /usr/local/lib/python3.12/dist-packages (from matplotlib->catboost) (11.3.0)\n",
            "Requirement already satisfied: pyparsing>=2.3.1 in /usr/local/lib/python3.12/dist-packages (from matplotlib->catboost) (3.2.3)\n",
            "Requirement already satisfied: tenacity>=6.2.0 in /usr/local/lib/python3.12/dist-packages (from plotly->catboost) (8.5.0)\n",
            "Downloading catboost-1.2.8-cp312-cp312-manylinux2014_x86_64.whl (99.2 MB)\n",
            "\u001b[2K   \u001b[90m━━━━━━━━━━━━━━━━━━━━━━━━━━━━━━━━━━━━━━━━\u001b[0m \u001b[32m99.2/99.2 MB\u001b[0m \u001b[31m6.2 MB/s\u001b[0m eta \u001b[36m0:00:00\u001b[0m\n",
            "\u001b[?25hInstalling collected packages: catboost\n",
            "Successfully installed catboost-1.2.8\n"
          ]
        },
        {
          "output_type": "display_data",
          "data": {
            "text/plain": [
              "<Figure size 600x400 with 2 Axes>"
            ],
            "image/png": "[encoded data removed]"
          },
          "metadata": {}
        }
      ]
    },
    {
      "cell_type": "markdown",
      "source": [
        "Q10. You're working for a FinTech company trying to predict loan default using customer demographics and transaction behavior. The dataset is imbalanced, contains missing values, and has both numeric and categorical features.\n",
        "  - Data Preprocessing & Handling Missing/Categorical Values:\n",
        "  I will impute missing numeric values using median and categorical values using mode.\n",
        "  Categorical features will be encoded using CatBoost’s native handling or one-hot encoding.\n",
        "  Outliers in numeric features will be capped to reduce skew.\n",
        "  Choice between AdaBoost, XGBoost, or CatBoost:\n",
        "  I prefer CatBoost because the dataset contains both numeric and categorical features.\n",
        "  XGBoost can be used if numerical features dominate and GPU acceleration is available.\n",
        "  AdaBoost is less suitable for imbalanced and categorical-heavy datasets.\n",
        "  Hyperparameter Tuning Strategy:\n",
        "  I will use GridSearchCV or RandomizedSearchCV to tune learning rate, number of estimators, max depth, and regularization.\n",
        "  Early stopping will be applied to prevent overfitting.\n",
        "  Evaluation Metrics and Why:\n",
        "  ROC-AUC, F1-score, and Precision-Recall AUC are preferred because accuracy alone can be misleading.\n",
        "  High recall is prioritized to correctly identify potential defaulters and reduce financial risk.\n",
        "  Business Benefit:\n",
        "  The model will flag high-risk customers early, helping reduce defaults.\n",
        "  This improves credit decision-making, risk management, and profitability.\n"
      ],
      "metadata": {
        "id": "quPJZW1rpiug"
      }
    },
    {
      "cell_type": "code",
      "source": [
        "# answer python code\n",
        "\n",
        "import numpy as np\n",
        "import pandas as pd\n",
        "import seaborn as sns\n",
        "import matplotlib.pyplot as plt\n",
        "import warnings\n",
        "warnings.filterwarnings(\"ignore\")\n",
        "\n",
        "# Create synthetic imbalanced dataset for loan default\n",
        "from sklearn.datasets import make_classification\n",
        "X, y = make_classification(\n",
        "    n_samples=5000, n_features=20, n_informative=10,\n",
        "    n_redundant=5, n_classes=2, weights=[0.7, 0.3],\n",
        "    random_state=42\n",
        ")\n",
        "\n",
        "# Split into training and test sets\n",
        "from sklearn.model_selection import train_test_split\n",
        "X_train, X_test, y_train, y_test = train_test_split(\n",
        "    X, y, test_size=0.3, stratify=y, random_state=42\n",
        ")\n",
        "\n",
        "# Handle missing values (simulate + fill)\n",
        "X_train = pd.DataFrame(X_train).fillna(X_train.mean())\n",
        "X_test = pd.DataFrame(X_test).fillna(X_test.mean())\n",
        "\n",
        "# Install CatBoost if not already installed\n",
        "!pip install catboost -q\n",
        "from catboost import CatBoostClassifier\n",
        "\n",
        "# Train CatBoost classifier\n",
        "cat = CatBoostClassifier(\n",
        "    iterations=300,\n",
        "    depth=6,\n",
        "    learning_rate=0.05,\n",
        "    eval_metric=\"F1\",\n",
        "    verbose=0,\n",
        "    random_state=42\n",
        ")\n",
        "cat.fit(X_train, y_train)\n",
        "\n",
        "# Make predictions\n",
        "y_pred = cat.predict(X_test)\n",
        "\n",
        "# Evaluate model\n",
        "from sklearn.metrics import classification_report, confusion_matrix\n",
        "print(classification_report(y_test, y_pred))\n",
        "\n",
        "# Plot confusion matrix\n",
        "plt.figure(figsize=(5,4))\n",
        "sns.heatmap(\n",
        "    confusion_matrix(y_test, y_pred),\n",
        "    annot=True, fmt=\"d\", cmap=\"Blues\"\n",
        ")\n",
        "plt.xlabel(\"Predicted\")\n",
        "plt.ylabel(\"Actual\")\n",
        "plt.title(\"Confusion Matrix - CatBoost Loan Default\")\n",
        "plt.show()"
      ],
      "metadata": {
        "colab": {
          "base_uri": "https://localhost:8080/",
          "height": 566
        },
        "id": "k6zXF4RJpXtN",
        "outputId": "7d44498b-2938-4e12-d810-1e7aa02362bb"
      },
      "execution_count": 5,
      "outputs": [
        {
          "output_type": "stream",
          "name": "stdout",
          "text": [
            "              precision    recall  f1-score   support\n",
            "\n",
            "           0       0.95      0.98      0.97      1047\n",
            "           1       0.95      0.89      0.92       453\n",
            "\n",
            "    accuracy                           0.95      1500\n",
            "   macro avg       0.95      0.94      0.94      1500\n",
            "weighted avg       0.95      0.95      0.95      1500\n",
            "\n"
          ]
        },
        {
          "output_type": "display_data",
          "data": {
            "text/plain": [
              "<Figure size 500x400 with 2 Axes>"
            ],
            "image/png": "[encoded data removed]"
          },
          "metadata": {}
        }
      ]
    },
    {
      "cell_type": "code",
      "source": [],
      "metadata": {
        "id": "yr0LAkYPtd1K"
      },
      "execution_count": null,
      "outputs": []
    }
  ]
}